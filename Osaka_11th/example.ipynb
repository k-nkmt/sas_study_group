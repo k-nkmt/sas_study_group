{
 "cells": [
  {
   "cell_type": "markdown",
   "id": "926de198",
   "metadata": {},
   "source": [
    "# コード実行例\n",
    "prgフォルダのパスは適宜変更して実行してください。  \n",
    "SASのエンコーディングはUTF-8で実行してください。  \n",
    "\n",
    "動作は基本的にSAS Ondemandを利用して確認しました。SASのバージョンは9.4であれば動作するかと思います。  \n",
    "\n",
    "## 注意点\n",
    "windowsのローカルでも動作は問題ないかと思いますが、バイナリ関連のフォーマット等を利用しているため、実行環境によってはうまく動作しない可能性があります。  \n",
    "欠損への対応や、sashelp.carsなどある程度のサイズのデータセットでも問題ないことは確認していますが、それほど多くのテストは行われていません。  \n",
    "レコード数が多い場合などで、特にparquetへの変換ではエンコードの対応が十分でない可能性があることには注意してください。\n",
    "\n",
    "## 変換仕様の補足\n",
    "仕様からだと分かりづらい部分は、pyarrowで作成されるファイルを参考にしてプログラムを作成しました。  \n",
    "SASで変換を行うにあたり、仕様の範囲で効率よりも扱いが簡単なように変換を行っている箇所があります。  \n",
    "例として、Parquetではdefinition levelに対して、RLEを使わずにBit-Packingのみで対応していたり、Arrow IPCでは型が同じ変数で共用可能なvtableを個別にもたせていたり、というような点があります。  \n",
    "そのため変換されたファイルは、pyarrowやpandasなどから作成したファイルとは、データの中身は同じでもバイナリで比較すると異なる箇所があります。\n",
    "\n",
    "## SASのみで実行する場合\n",
    "文章用にjupyterを使用していますが、以下のようにSASのみで実行可能です。\n",
    "\n",
    "```sas\n",
    "%include prg/*.sas ;\n",
    "sd2pq(table=class, libref=sashelp, outpath=C:\\sh_class.parquet) ;\n",
    "```"
   ]
  },
  {
   "cell_type": "markdown",
   "id": "955444e4",
   "metadata": {},
   "source": [
    "# pythonからの実行と確認\n",
    "\n",
    "以下では変換とその結果まで確認できるように、saspyから実行します。  \n",
    "ここではsashelp.classをこのipynbファイルと同じフォルダに出力し、読み込みを行います。  \n",
    "\n",
    "汎用的な動作とテスト用環境がサーバーのSASを利用していることからsas.downloadを使用していますが、ローカルでアクセス可能ならそのまま扱っても問題ありません。"
   ]
  },
  {
   "cell_type": "code",
   "execution_count": null,
   "id": "fadbe859",
   "metadata": {},
   "outputs": [
    {
     "name": "stdout",
     "output_type": "stream",
     "text": [
      "Using SAS Config named: oda\n",
      "SAS Connection established. Subprocess id is 36292\n",
      "\n",
      "SAS Connection terminated. Subprocess id was 36292\n",
      "pyarrow.Table\n",
      "Name: string\n",
      "Sex: string\n",
      "Age: double\n",
      "Height: double\n",
      "Weight: double\n",
      "----\n",
      "Name: [[\"Alfred\",\"Alice\",\"Barbara\",\"Carol\",\"Henry\",...,\"Philip\",\"Robert\",\"Ronald\",\"Thomas\",\"William\"]]\n",
      "Sex: [[\"M\",\"F\",\"F\",\"F\",\"M\",...,\"M\",\"M\",\"M\",\"M\",\"M\"]]\n",
      "Age: [[14,13,13,14,14,...,16,12,15,11,15]]\n",
      "Height: [[69,56.5,65.3,62.8,63.5,...,72,64.8,67,57.5,66.5]]\n",
      "Weight: [[112.5,84,98,102.5,102.5,...,150,128,133,85,112]]\n"
     ]
    }
   ],
   "source": [
    "ipc_file = 'sh_class.arrow'\n",
    "prg_path = 'prg'\n",
    "\n",
    "import saspy\n",
    "sas = saspy.SASsession()\n",
    "sas_code = f\"\"\"\n",
    "%let ipc_path=%sysfunc(pathname(work))/{ipc_file} ;\n",
    "%include \"{prg_path}/*.sas\" ;\n",
    "%sd2IPC(table=class, libref=sashelp, outpath=&ipc_path.) ;\n",
    "\"\"\"\n",
    "\n",
    "ll = sas.submit(sas_code)\n",
    "remote_file = sas.symget('ipc_path')\n",
    "local_file = ipc_file\n",
    "\n",
    "sas.download(local_file, remote_file)\n",
    "sas.endsas()\n",
    "\n",
    "import pyarrow as pa\n",
    "class_df = pa.ipc.open_file(local_file).read_all()\n",
    "print(class_df)"
   ]
  }
 ],
 "metadata": {
  "kernelspec": {
   "display_name": "test",
   "language": "python",
   "name": "python3"
  },
  "language_info": {
   "codemirror_mode": {
    "name": "ipython",
    "version": 3
   },
   "file_extension": ".py",
   "mimetype": "text/x-python",
   "name": "python",
   "nbconvert_exporter": "python",
   "pygments_lexer": "ipython3",
   "version": "3.10.14"
  }
 },
 "nbformat": 4,
 "nbformat_minor": 5
}
